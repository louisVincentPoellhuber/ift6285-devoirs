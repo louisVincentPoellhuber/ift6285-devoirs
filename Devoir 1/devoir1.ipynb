{
 "cells": [
  {
   "cell_type": "markdown",
   "metadata": {},
   "source": [
    "# 0. Imports"
   ]
  },
  {
   "cell_type": "code",
   "execution_count": 14,
   "metadata": {},
   "outputs": [],
   "source": [
    "import kenlm\n",
    "\n",
    "import pandas as pd\n",
    "import numpy as np\n",
    " \n",
    "#PATH = r\"C:\\Users\\barka\\Desktop\\NLP\\Data\\\"\n",
    "PATH = r\"C:\\Users\\Louis\\Documents\\University\\Masters\\A23\\NLP\\Devoirs\\data\\hw1\\test\\news.en-00000-of-00100.txt\""
   ]
  },
  {
   "cell_type": "markdown",
   "metadata": {},
   "source": [
    "# a. Model Stats\n",
    "\n",
    "### Load model"
   ]
  },
  {
   "cell_type": "code",
   "execution_count": 10,
   "metadata": {},
   "outputs": [],
   "source": [
    "model_kenlm = kenlm.LanguageModel(r\"C:\\Users\\Louis\\Documents\\University\\Masters\\A23\\NLP\\model2G.arpa\")\n",
    "#model_lmppl = lmppl.LM(\"C:\\\\Users\\\\Louis\\\\Documents\\\\University\\\\Masters\\\\A23\\\\NLP\\\\model2G.arpa\")"
   ]
  },
  {
   "cell_type": "markdown",
   "metadata": {},
   "source": [
    "### Calculate perplexity"
   ]
  },
  {
   "cell_type": "code",
   "execution_count": 15,
   "metadata": {},
   "outputs": [],
   "source": [
    "f = open(PATH, \"r\", encoding=\"utf-8\")\n",
    "\n",
    "sentences = f.readlines()[:1000]\n",
    "\n",
    "perplexities = []\n",
    "for sentence in sentences:\n",
    "    sentence_filtered = sentence.replace('\\n', '')\n",
    "    score = model_kenlm.perplexity(sentence_filtered)\n",
    "    perplexities.append(score)"
   ]
  },
  {
   "cell_type": "markdown",
   "metadata": {},
   "source": [
    "### Statistics"
   ]
  },
  {
   "cell_type": "code",
   "execution_count": 17,
   "metadata": {},
   "outputs": [
    {
     "data": {
      "text/plain": [
       "count     1000.000000\n",
       "mean       412.933038\n",
       "std       1026.208320\n",
       "min         28.735342\n",
       "25%        145.652765\n",
       "50%        227.562864\n",
       "75%        419.894973\n",
       "max      21411.129543\n",
       "dtype: float64"
      ]
     },
     "execution_count": 17,
     "metadata": {},
     "output_type": "execute_result"
    }
   ],
   "source": [
    "perp_df = pd.Series(perplexities)\n",
    "\n",
    "perp_df.describe()"
   ]
  },
  {
   "cell_type": "markdown",
   "metadata": {},
   "source": [
    "# b. Slices Performance"
   ]
  },
  {
   "cell_type": "code",
   "execution_count": null,
   "metadata": {},
   "outputs": [],
   "source": []
  },
  {
   "cell_type": "markdown",
   "metadata": {},
   "source": [
    "# c. Best Model"
   ]
  },
  {
   "cell_type": "code",
   "execution_count": null,
   "metadata": {},
   "outputs": [],
   "source": []
  },
  {
   "cell_type": "markdown",
   "metadata": {},
   "source": [
    "# d. Small Question"
   ]
  },
  {
   "cell_type": "code",
   "execution_count": null,
   "metadata": {},
   "outputs": [],
   "source": []
  }
 ],
 "metadata": {
  "kernelspec": {
   "display_name": "Python 3 (ipykernel)",
   "language": "python",
   "name": "python3"
  },
  "language_info": {
   "codemirror_mode": {
    "name": "ipython",
    "version": 3
   },
   "file_extension": ".py",
   "mimetype": "text/x-python",
   "name": "python",
   "nbconvert_exporter": "python",
   "pygments_lexer": "ipython3",
   "version": "3.10.11"
  }
 },
 "nbformat": 4,
 "nbformat_minor": 2
}
