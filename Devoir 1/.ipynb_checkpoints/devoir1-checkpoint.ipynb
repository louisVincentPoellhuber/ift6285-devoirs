{
 "cells": [
  {
   "cell_type": "markdown",
   "metadata": {},
   "source": [
    "## CSH Commands used in the making of this report"
   ]
  },
  {
   "cell_type": "markdown",
   "metadata": {},
   "source": [
    "### Installing dependencies"
   ]
  },
  {
   "cell_type": "markdown",
   "metadata": {},
   "source": [
    "sudo apt-get install build-essential libboost-all-dev cmake zlib1g-dev libbz2-dev liblzma-dev"
   ]
  },
  {
   "cell_type": "markdown",
   "metadata": {},
   "source": [
    "### Installing Kenlm "
   ]
  },
  {
   "cell_type": "markdown",
   "metadata": {},
   "source": [
    "wget -O - https://kheafield.com/code/kenlm.tar.gz |tar xz\n",
    "mkdir kenlm/build\n",
    "cd kenlm/build\n",
    "cmake ..\n",
    "make -j2"
   ]
  },
  {
   "cell_type": "markdown",
   "metadata": {},
   "source": [
    "### Training the model"
   ]
  },
  {
   "cell_type": "markdown",
   "metadata": {},
   "source": [
    " find /home/joebr/kenlm/data/ -type f -exec cat {} + | bin/lmplz -o 2 > model.arpa"
   ]
  },
  {
   "cell_type": "markdown",
   "metadata": {},
   "source": [
    "# 0. Imports"
   ]
  },
  {
   "cell_type": "code",
   "execution_count": 119,
   "metadata": {},
   "outputs": [],
   "source": [
    "import kenlm\n",
    "import re\n",
    "import glob\n",
    "import time\n",
    "import pandas as pd\n",
    "import numpy as np\n",
    "import matplotlib.pyplot as plt\n",
    "import seaborn as sb\n",
    " \n",
    "#PATH = r\"C:\\Users\\barka\\Desktop\\NLP\\Data\\\"\n",
    "#PATH = r\"C:\\Users\\Louis\\Documents\\University\\Masters\\A23\\NLP\\Devoirs\\data\\hw1\\test\\news.en-00000-of-00100.txt\"\n",
    "PATH = r\"C:\\Users\\barka\\Desktop\\NLP\\Data\\test.txt\""
   ]
  },
  {
   "cell_type": "markdown",
   "metadata": {},
   "source": [
    "# a. Model Stats\n",
    "\n",
    "### Load model"
   ]
  },
  {
   "cell_type": "code",
   "execution_count": 35,
   "metadata": {},
   "outputs": [],
   "source": [
    "#model_kenlm = kenlm.LanguageModel(r\"C:\\Users\\Louis\\Documents\\University\\Masters\\A23\\NLP\\model2G.arpa\")\n",
    "#model_lmppl = lmppl.LM(\"C:\\\\Users\\\\Louis\\\\Documents\\\\University\\\\Masters\\\\A23\\\\NLP\\\\model2G.arpa\")"
   ]
  },
  {
   "cell_type": "markdown",
   "metadata": {},
   "source": [
    "### Load Test_set"
   ]
  },
  {
   "cell_type": "code",
   "execution_count": 117,
   "metadata": {},
   "outputs": [],
   "source": [
    "f = open(PATH, \"r\", encoding=\"utf-8\")\n",
    "sentences = f.readlines()[:1000]"
   ]
  },
  {
   "cell_type": "markdown",
   "metadata": {},
   "source": [
    "### Calculate perplexity"
   ]
  },
  {
   "cell_type": "code",
   "execution_count": null,
   "metadata": {},
   "outputs": [],
   "source": [
    "perplexities = []\n",
    "for sentence in sentences:\n",
    "    sentence_filtered = sentence.replace('\\n', '')\n",
    "    score = model_kenlm.perplexity(sentence_filtered)\n",
    "    perplexities.append(score)"
   ]
  },
  {
   "cell_type": "markdown",
   "metadata": {},
   "source": [
    "### Statistics"
   ]
  },
  {
   "cell_type": "code",
   "execution_count": 24,
   "metadata": {},
   "outputs": [
    {
     "data": {
      "text/plain": [
       "count     1000.000000\n",
       "mean       412.933038\n",
       "std       1026.208320\n",
       "min         28.735342\n",
       "25%        145.652765\n",
       "50%        227.562864\n",
       "75%        419.894973\n",
       "max      21411.129543\n",
       "dtype: float64"
      ]
     },
     "execution_count": 24,
     "metadata": {},
     "output_type": "execute_result"
    }
   ],
   "source": [
    "perp_df = pd.Series(perplexities)\n",
    "\n",
    "perp_df.describe()"
   ]
  },
  {
   "cell_type": "markdown",
   "metadata": {},
   "source": [
    "# b. Slices Performance"
   ]
  },
  {
   "cell_type": "code",
   "execution_count": 120,
   "metadata": {},
   "outputs": [],
   "source": [
    "perplexities_by_model = []\n",
    "for i in range(1,10):\n",
    "\n",
    "    model_i = kenlm.LanguageModel(fr\"C:\\Users\\barka\\Desktop\\NLP\\Model\\Bimodel_{i}.arpa\")\n",
    "\n",
    "    perplexities = []\n",
    "    for sentence in sentences:\n",
    "        sentence_filtered = sentence.replace('\\n', '')\n",
    "        score = model_i.perplexity(sentence_filtered)\n",
    "        perplexities.append(score)\n",
    "    \n",
    "    perplexities_by_model.append(perplexities)"
   ]
  },
  {
   "cell_type": "code",
   "execution_count": 121,
   "metadata": {
    "scrolled": true
   },
   "outputs": [
    {
     "data": {
      "text/plain": [
       "array([519.21470454, 459.76954291, 452.83803246, 445.56337716,\n",
       "       433.42662473, 432.01969488, 418.98937729, 416.18992388,\n",
       "       412.93303849])"
      ]
     },
     "execution_count": 121,
     "metadata": {},
     "output_type": "execute_result"
    }
   ],
   "source": [
    "perplexities_by_model = np.array(perplexities_by_model)\n",
    "avg_perplexities_by_model = np.mean(perplexities_by_model, axis = 1)\n",
    "avg_perplexities_by_model"
   ]
  },
  {
   "cell_type": "code",
   "execution_count": 146,
   "metadata": {},
   "outputs": [],
   "source": [
    "Temps_CPU = np.array([10.4654, 19.9174, 24.4909, 29.6741, 39.1275, 41.5106, 47.1417, 51.1339, 56.4883])\n",
    "Memoire = np.array([53543, 87435, 115548, 140910, 164432, 186094, 206837, 226067, 244980])\n",
    "Nu_of_slices = np.array([1, 2, 3, 4, 5, 6, 7, 8, 9])\n",
    "column_values = ['Number of slices trained on', 'Average perplexity', 'CPU Time (s)', 'Disk space (kB)']\n",
    "index_values = ['Bimodel 1', 'Bimodel 2', 'Bimodel 3', 'Bimodel 4', 'Bimodel 5', 'Bimodel 6', 'Bimodel 7', 'Bimodel 8', 'Bimodel 9']"
   ]
  },
  {
   "cell_type": "code",
   "execution_count": 147,
   "metadata": {},
   "outputs": [
    {
     "data": {
      "text/html": [
       "<div>\n",
       "<style scoped>\n",
       "    .dataframe tbody tr th:only-of-type {\n",
       "        vertical-align: middle;\n",
       "    }\n",
       "\n",
       "    .dataframe tbody tr th {\n",
       "        vertical-align: top;\n",
       "    }\n",
       "\n",
       "    .dataframe thead th {\n",
       "        text-align: right;\n",
       "    }\n",
       "</style>\n",
       "<table border=\"1\" class=\"dataframe\">\n",
       "  <thead>\n",
       "    <tr style=\"text-align: right;\">\n",
       "      <th></th>\n",
       "      <th>Number of slices trained on</th>\n",
       "      <th>Average perplexity</th>\n",
       "      <th>CPU Time (s)</th>\n",
       "      <th>Disk space (kB)</th>\n",
       "    </tr>\n",
       "  </thead>\n",
       "  <tbody>\n",
       "    <tr>\n",
       "      <th>Bimodel 1</th>\n",
       "      <td>1</td>\n",
       "      <td>519.214705</td>\n",
       "      <td>10.4654</td>\n",
       "      <td>53543</td>\n",
       "    </tr>\n",
       "    <tr>\n",
       "      <th>Bimodel 2</th>\n",
       "      <td>2</td>\n",
       "      <td>459.769543</td>\n",
       "      <td>19.9174</td>\n",
       "      <td>87435</td>\n",
       "    </tr>\n",
       "    <tr>\n",
       "      <th>Bimodel 3</th>\n",
       "      <td>3</td>\n",
       "      <td>452.838032</td>\n",
       "      <td>24.4909</td>\n",
       "      <td>115548</td>\n",
       "    </tr>\n",
       "    <tr>\n",
       "      <th>Bimodel 4</th>\n",
       "      <td>4</td>\n",
       "      <td>445.563377</td>\n",
       "      <td>29.6741</td>\n",
       "      <td>140910</td>\n",
       "    </tr>\n",
       "    <tr>\n",
       "      <th>Bimodel 5</th>\n",
       "      <td>5</td>\n",
       "      <td>433.426625</td>\n",
       "      <td>39.1275</td>\n",
       "      <td>164432</td>\n",
       "    </tr>\n",
       "    <tr>\n",
       "      <th>Bimodel 6</th>\n",
       "      <td>6</td>\n",
       "      <td>432.019695</td>\n",
       "      <td>41.5106</td>\n",
       "      <td>186094</td>\n",
       "    </tr>\n",
       "    <tr>\n",
       "      <th>Bimodel 7</th>\n",
       "      <td>7</td>\n",
       "      <td>418.989377</td>\n",
       "      <td>47.1417</td>\n",
       "      <td>206837</td>\n",
       "    </tr>\n",
       "    <tr>\n",
       "      <th>Bimodel 8</th>\n",
       "      <td>8</td>\n",
       "      <td>416.189924</td>\n",
       "      <td>51.1339</td>\n",
       "      <td>226067</td>\n",
       "    </tr>\n",
       "    <tr>\n",
       "      <th>Bimodel 9</th>\n",
       "      <td>9</td>\n",
       "      <td>412.933038</td>\n",
       "      <td>56.4883</td>\n",
       "      <td>244980</td>\n",
       "    </tr>\n",
       "  </tbody>\n",
       "</table>\n",
       "</div>"
      ],
      "text/plain": [
       "           Number of slices trained on  Average perplexity  CPU Time (s)  \\\n",
       "Bimodel 1                            1          519.214705       10.4654   \n",
       "Bimodel 2                            2          459.769543       19.9174   \n",
       "Bimodel 3                            3          452.838032       24.4909   \n",
       "Bimodel 4                            4          445.563377       29.6741   \n",
       "Bimodel 5                            5          433.426625       39.1275   \n",
       "Bimodel 6                            6          432.019695       41.5106   \n",
       "Bimodel 7                            7          418.989377       47.1417   \n",
       "Bimodel 8                            8          416.189924       51.1339   \n",
       "Bimodel 9                            9          412.933038       56.4883   \n",
       "\n",
       "           Disk space (kB)  \n",
       "Bimodel 1            53543  \n",
       "Bimodel 2            87435  \n",
       "Bimodel 3           115548  \n",
       "Bimodel 4           140910  \n",
       "Bimodel 5           164432  \n",
       "Bimodel 6           186094  \n",
       "Bimodel 7           206837  \n",
       "Bimodel 8           226067  \n",
       "Bimodel 9           244980  "
      ]
     },
     "execution_count": 147,
     "metadata": {},
     "output_type": "execute_result"
    }
   ],
   "source": [
    "data = {'Number of slices trained on': Nu_of_slices,\n",
    "        'Average perplexity': avg_perplexities_by_model,\n",
    "        'CPU Time (s)': Temps_CPU,\n",
    "        'Disk space (kB)' : Memoire}\n",
    "\n",
    "df = pd.DataFrame(data, columns=column_values, index=index_values)\n",
    "df"
   ]
  },
  {
   "cell_type": "markdown",
   "metadata": {},
   "source": [
    "## Figures"
   ]
  },
  {
   "cell_type": "markdown",
   "metadata": {},
   "source": [
    "###  Perplexity vs. Number of Slices Trained On"
   ]
  },
  {
   "cell_type": "code",
   "execution_count": 148,
   "metadata": {},
   "outputs": [
    {
     "data": {
      "image/png": "[encoded data removed]",
      "text/plain": [
       "<Figure size 800x600 with 1 Axes>"
      ]
     },
     "metadata": {},
     "output_type": "display_data"
    }
   ],
   "source": [
    "#perx per number slice\n",
    "plt.figure(figsize=(8, 6))\n",
    "plt.plot(df['Number of slices trained on'], df['Average perplexity'], marker='o', linestyle='-')\n",
    "plt.title('Perplexity vs. Number of Slices Trained On')\n",
    "plt.xlabel('Number of Slices Trained On')\n",
    "plt.ylabel('Average Perplexity')\n",
    "plt.grid(True)\n",
    "plt.show()"
   ]
  },
  {
   "cell_type": "markdown",
   "metadata": {},
   "source": [
    "### Number of Slices vs. Disk Space"
   ]
  },
  {
   "cell_type": "code",
   "execution_count": 149,
   "metadata": {
    "scrolled": true
   },
   "outputs": [
    {
     "data": {
      "image/png": "[encoded data removed]",
      "text/plain": [
       "<Figure size 800x600 with 2 Axes>"
      ]
     },
     "metadata": {},
     "output_type": "display_data"
    }
   ],
   "source": [
    "#number slice avec storage space\n",
    "\n",
    "plt.figure(figsize=(8, 6))\n",
    "plt.scatter(df['Number of slices trained on'], df['Disk space (kB)'], c=df['Average perplexity'], cmap='viridis', s=100, alpha=0.7)\n",
    "plt.title('Number of Slices vs. Disk Space')\n",
    "plt.xlabel('Number of Slices Trained On')\n",
    "plt.ylabel('Disk Space (kB)')\n",
    "plt.colorbar(label='Average Perplexity')\n",
    "plt.grid(True)\n",
    "plt.show()"
   ]
  },
  {
   "cell_type": "markdown",
   "metadata": {},
   "source": [
    "### Number of Slices vs. CPU Time (s)"
   ]
  },
  {
   "cell_type": "code",
   "execution_count": 150,
   "metadata": {
    "scrolled": true
   },
   "outputs": [
    {
     "data": {
      "image/png": "[encoded data removed]",
      "text/plain": [
       "<Figure size 800x600 with 2 Axes>"
      ]
     },
     "metadata": {},
     "output_type": "display_data"
    }
   ],
   "source": [
    "plt.figure(figsize=(8, 6))\n",
    "plt.scatter(df['Number of slices trained on'], df['CPU Time (s)'], c=df['Average perplexity'], cmap='viridis', s=100, alpha=0.7)\n",
    "plt.title('Number of Slices vs. CPU Time (s)')\n",
    "plt.xlabel('Number of Slices Trained On')\n",
    "plt.ylabel('CPU Time (s)')\n",
    "plt.colorbar(label='Average Perplexity')\n",
    "plt.grid(True)\n",
    "plt.show()"
   ]
  },
  {
   "cell_type": "markdown",
   "metadata": {},
   "source": [
    "## Analysis "
   ]
  },
  {
   "cell_type": "markdown",
   "metadata": {},
   "source": [
    "The data analysis reveals that as the number of slices trained on increases, there is a general upward trend in average perplexity, CPU time, and disk space usage. This suggests a trade-off between improving model understanding (lower perplexity) and resource requirements. While training on more data may enhance the model's performance, it demands increased computational resources and storage space."
   ]
  },
  {
   "cell_type": "markdown",
   "metadata": {},
   "source": [
    "# c. Best Model"
   ]
  },
  {
   "cell_type": "code",
   "execution_count": 151,
   "metadata": {},
   "outputs": [
    {
     "name": "stdout",
     "output_type": "stream",
     "text": [
      "Model loading time: 8.1727 seconds\n"
     ]
    }
   ],
   "source": [
    "start_time = time.time()\n",
    "Bimodel = kenlm.LanguageModel(r\"C:\\Users\\barka\\Desktop\\NLP\\Model\\Bimodel.arpa\")\n",
    "end_time = time.time()\n",
    "loading_time = end_time - start_time\n",
    "print(f\"Model loading time: {loading_time:.4f} seconds\")"
   ]
  },
  {
   "cell_type": "code",
   "execution_count": 152,
   "metadata": {},
   "outputs": [
    {
     "name": "stdout",
     "output_type": "stream",
     "text": [
      "Model loading time: 41.3070 seconds\n"
     ]
    }
   ],
   "source": [
    "start_time = time.time()\n",
    "Trimodel = kenlm.LanguageModel(r\"C:\\Users\\barka\\Desktop\\NLP\\Model\\Trimodel.arpa\")\n",
    "end_time = time.time()\n",
    "loading_time = end_time - start_time\n",
    "print(f\"Model loading time: {loading_time:.4f} seconds\")"
   ]
  },
  {
   "cell_type": "code",
   "execution_count": 153,
   "metadata": {},
   "outputs": [
    {
     "name": "stdout",
     "output_type": "stream",
     "text": [
      "Model loading time: 111.2460 seconds\n"
     ]
    }
   ],
   "source": [
    "start_time = time.time()\n",
    "Quadmodel = kenlm.LanguageModel(r\"C:\\Users\\barka\\Desktop\\NLP\\Model\\Quadmodel.arpa\")\n",
    "end_time = time.time()\n",
    "loading_time = end_time - start_time\n",
    "print(f\"Model loading time: {loading_time:.4f} seconds\")"
   ]
  },
  {
   "cell_type": "code",
   "execution_count": 154,
   "metadata": {},
   "outputs": [
    {
     "name": "stdout",
     "output_type": "stream",
     "text": [
      "Model loading time: 180.2113 seconds\n"
     ]
    }
   ],
   "source": [
    "start_time = time.time()\n",
    "Pentamodel = kenlm.LanguageModel(r\"C:\\Users\\barka\\Desktop\\NLP\\Model\\Pentamodel.arpa\")\n",
    "end_time = time.time()\n",
    "loading_time = end_time - start_time\n",
    "print(f\"Model loading time: {loading_time:.4f} seconds\")"
   ]
  },
  {
   "cell_type": "code",
   "execution_count": 155,
   "metadata": {},
   "outputs": [],
   "source": [
    "perplexities_by_best_model = []\n",
    "perplexities = []\n",
    "for sentence in sentences:\n",
    "    sentence_filtered = sentence.replace('\\n', '')\n",
    "    score = Bimodel.perplexity(sentence_filtered)\n",
    "    perplexities.append(score)\n",
    "    \n",
    "perplexities_by_best_model.append(perplexities)"
   ]
  },
  {
   "cell_type": "code",
   "execution_count": 156,
   "metadata": {},
   "outputs": [],
   "source": [
    "perplexities = []\n",
    "for sentence in sentences:\n",
    "    sentence_filtered = sentence.replace('\\n', '')\n",
    "    score = Trimodel.perplexity(sentence_filtered)\n",
    "    perplexities.append(score)\n",
    "    \n",
    "perplexities_by_best_model.append(perplexities)"
   ]
  },
  {
   "cell_type": "code",
   "execution_count": 157,
   "metadata": {},
   "outputs": [],
   "source": [
    "perplexities = []\n",
    "for sentence in sentences:\n",
    "    sentence_filtered = sentence.replace('\\n', '')\n",
    "    score = Quadmodel.perplexity(sentence_filtered)\n",
    "    perplexities.append(score)\n",
    "    \n",
    "perplexities_by_best_model.append(perplexities)"
   ]
  },
  {
   "cell_type": "code",
   "execution_count": 158,
   "metadata": {},
   "outputs": [],
   "source": [
    "perplexities = []\n",
    "for sentence in sentences:\n",
    "    sentence_filtered = sentence.replace('\\n', '')\n",
    "    score = Pentamodel.perplexity(sentence_filtered)\n",
    "    perplexities.append(score)\n",
    "    \n",
    "perplexities_by_best_model.append(perplexities)"
   ]
  },
  {
   "cell_type": "code",
   "execution_count": 159,
   "metadata": {},
   "outputs": [
    {
     "data": {
      "text/plain": [
       "array([412.93303849, 317.5932022 , 303.8630148 , 301.97724712])"
      ]
     },
     "execution_count": 159,
     "metadata": {},
     "output_type": "execute_result"
    }
   ],
   "source": [
    "perplexities_by_model = np.array(perplexities_by_best_model)\n",
    "avg_perplexities_by_best_model = np.mean(perplexities_by_best_model, axis = 1)\n",
    "avg_perplexities_by_best_model"
   ]
  },
  {
   "cell_type": "code",
   "execution_count": 160,
   "metadata": {},
   "outputs": [],
   "source": [
    "Temps_CPU = np.array([56.4883, 154.045, 485.135, 843.09])\n",
    "Memoire = np.array([244980, 1217636, 3235823, 5970728])\n",
    "N_gramme = np.array([2, 3, 4, 5])\n",
    "time_of_loading = np.array([8.3803, 41.4838, 110.1083, 189.1594])\n",
    "column_values = ['N-gramme', 'Average perplexity', 'CPU Time (s)', 'Disk space (kB)', 'Loading Time (s)']\n",
    "index_values = ['Bimodel', 'Trimodel', 'Quadmodel', 'Pentamodel']"
   ]
  },
  {
   "cell_type": "code",
   "execution_count": 161,
   "metadata": {},
   "outputs": [
    {
     "data": {
      "text/html": [
       "<div>\n",
       "<style scoped>\n",
       "    .dataframe tbody tr th:only-of-type {\n",
       "        vertical-align: middle;\n",
       "    }\n",
       "\n",
       "    .dataframe tbody tr th {\n",
       "        vertical-align: top;\n",
       "    }\n",
       "\n",
       "    .dataframe thead th {\n",
       "        text-align: right;\n",
       "    }\n",
       "</style>\n",
       "<table border=\"1\" class=\"dataframe\">\n",
       "  <thead>\n",
       "    <tr style=\"text-align: right;\">\n",
       "      <th></th>\n",
       "      <th>N-gramme</th>\n",
       "      <th>Average perplexity</th>\n",
       "      <th>CPU Time (s)</th>\n",
       "      <th>Disk space (kB)</th>\n",
       "      <th>Loading Time (s)</th>\n",
       "    </tr>\n",
       "  </thead>\n",
       "  <tbody>\n",
       "    <tr>\n",
       "      <th>Bimodel</th>\n",
       "      <td>2</td>\n",
       "      <td>412.933038</td>\n",
       "      <td>56.4883</td>\n",
       "      <td>244980</td>\n",
       "      <td>8.3803</td>\n",
       "    </tr>\n",
       "    <tr>\n",
       "      <th>Trimodel</th>\n",
       "      <td>3</td>\n",
       "      <td>317.593202</td>\n",
       "      <td>154.0450</td>\n",
       "      <td>1217636</td>\n",
       "      <td>41.4838</td>\n",
       "    </tr>\n",
       "    <tr>\n",
       "      <th>Quadmodel</th>\n",
       "      <td>4</td>\n",
       "      <td>303.863015</td>\n",
       "      <td>485.1350</td>\n",
       "      <td>3235823</td>\n",
       "      <td>110.1083</td>\n",
       "    </tr>\n",
       "    <tr>\n",
       "      <th>Pentamodel</th>\n",
       "      <td>5</td>\n",
       "      <td>301.977247</td>\n",
       "      <td>843.0900</td>\n",
       "      <td>5970728</td>\n",
       "      <td>189.1594</td>\n",
       "    </tr>\n",
       "  </tbody>\n",
       "</table>\n",
       "</div>"
      ],
      "text/plain": [
       "            N-gramme  Average perplexity  CPU Time (s)  Disk space (kB)  \\\n",
       "Bimodel            2          412.933038       56.4883           244980   \n",
       "Trimodel           3          317.593202      154.0450          1217636   \n",
       "Quadmodel          4          303.863015      485.1350          3235823   \n",
       "Pentamodel         5          301.977247      843.0900          5970728   \n",
       "\n",
       "            Loading Time (s)  \n",
       "Bimodel               8.3803  \n",
       "Trimodel             41.4838  \n",
       "Quadmodel           110.1083  \n",
       "Pentamodel          189.1594  "
      ]
     },
     "execution_count": 161,
     "metadata": {},
     "output_type": "execute_result"
    }
   ],
   "source": [
    "data = {'N-gramme': N_gramme,\n",
    "        'Average perplexity': avg_perplexities_by_best_model,\n",
    "        'CPU Time (s)': Temps_CPU,\n",
    "        'Disk space (kB)' : Memoire,\n",
    "        'Loading Time (s)': time_of_loading}\n",
    "\n",
    "df = pd.DataFrame(data, columns=column_values, index=index_values)\n",
    "df"
   ]
  },
  {
   "cell_type": "markdown",
   "metadata": {},
   "source": [
    "## Opting for Efficiency: Choosing the Trimodel\n",
    "\n",
    "\n",
    "In the context of selecting the optimal model among the choices, the Trimodel stands out as the preferred choice. While it may not have the absolute lowest perplexity score compared to the Pentamodel, it strikes a commendable balance between model performance and resource efficiency. The Trimodel offers a favorable compromise, boasting a substantially lower perplexity (317.59) than the Bimodel while being considerably more efficient in terms of both CPU time (154.05 seconds) and disk space usage (1,217,636 kB). Additionally, the Trimodel exhibits a relatively quick loading time (41.48 seconds), further contributing to its practicality for deployment and real-time usage. In summary, the Trimodel's impressive performance, coupled with its efficient resource utilization and swift loading times, positions it as the pragmatic choice for achieving a robust and practical language model solution."
   ]
  },
  {
   "cell_type": "markdown",
   "metadata": {},
   "source": [
    "# d. Small Questions\n",
    "\n",
    "### i - Lines"
   ]
  },
  {
   "cell_type": "code",
   "execution_count": 19,
   "metadata": {},
   "outputs": [
    {
     "name": "stderr",
     "output_type": "stream",
     "text": [
      "C:\\Users\\Louis\\AppData\\Local\\Temp\\ipykernel_4068\\506740737.py:2: FutureWarning: The default dtype for empty Series will be 'object' instead of 'float64' in a future version. Specify a dtype explicitly to silence this warning.\n",
      "  all_slices = pd.Series()\n"
     ]
    },
    {
     "data": {
      "text/plain": [
       "0          The U.S. Centers for Disease Control and Preve...\n",
       "1          When Ms. Winfrey invited Suzanne Somers to sha...\n",
       "2          Elk calling -- a skill that hunters perfected ...\n",
       "3                                                   Don 't !\n",
       "4          Fish , ranked 98th in the world , fired 22 ace...\n",
       "                                 ...                        \n",
       "2471015     I think the reason Darren Aronofsky wanted to...\n",
       "2471016    We 've asked the police to help me trace where...\n",
       "2471017    Wild spending and family dysfunction are commo...\n",
       "2471018     Many customers keep asking about ' Rambo 4 ' ...\n",
       "2471019    Where Ubisoft and developer Gameloft really do...\n",
       "Length: 2471020, dtype: object"
      ]
     },
     "execution_count": 19,
     "metadata": {},
     "output_type": "execute_result"
    }
   ],
   "source": [
    "# Concatenate all files\n",
    "all_slices = pd.Series()\n",
    "for slice_path in glob.glob(PATH+\"\\*.txt\"):\n",
    "    slice_df = pd.read_table(slice_path, header=None)\n",
    "    slice_df = slice_df[0] # Make it a Series\n",
    "\n",
    "    all_slices = pd.concat([all_slices, slice_df])\n",
    "all_slices = all_slices.reset_index(drop=True)\n",
    "\n",
    "all_slices"
   ]
  },
  {
   "cell_type": "markdown",
   "metadata": {},
   "source": [
    "### ii - Repeats"
   ]
  },
  {
   "cell_type": "code",
   "execution_count": 39,
   "metadata": {},
   "outputs": [],
   "source": [
    "# Count repeats\n",
    "sentence_counts = all_slices.value_counts()\n",
    "seen_3 = sentence_counts[sentence_counts>=3]\n",
    "seen_4 = sentence_counts[sentence_counts>=4]"
   ]
  },
  {
   "cell_type": "code",
   "execution_count": 40,
   "metadata": {},
   "outputs": [
    {
     "data": {
      "text/plain": [
       "American negotiator Watson said the Bush administration is planning probably four more meetings in the Major Economies series before a \" leaders ' meeting \" in mid-2008 presents a final outcome .    3\n",
       "dtype: int64"
      ]
     },
     "execution_count": 40,
     "metadata": {},
     "output_type": "execute_result"
    }
   ],
   "source": [
    "seen_3"
   ]
  },
  {
   "cell_type": "code",
   "execution_count": 41,
   "metadata": {},
   "outputs": [
    {
     "data": {
      "text/plain": [
       "Series([], dtype: int64)"
      ]
     },
     "execution_count": 41,
     "metadata": {},
     "output_type": "execute_result"
    }
   ],
   "source": [
    "seen_4"
   ]
  },
  {
   "cell_type": "markdown",
   "metadata": {},
   "source": [
    "### iii - Characters"
   ]
  },
  {
   "cell_type": "code",
   "execution_count": 25,
   "metadata": {},
   "outputs": [
    {
     "name": "stdout",
     "output_type": "stream",
     "text": [
      "Number of occurences per caracter lengths: \n",
      "20: 35\n",
      "120: 1\n"
     ]
    }
   ],
   "source": [
    "sentence_lengths = all_slices.str.len()\n",
    "sentence_lengths_counts = sentence_lengths.value_counts()\n",
    "length_20 = len(sentence_lengths_counts[sentence_lengths_counts==20])\n",
    "length_120 = len(sentence_lengths_counts[sentence_lengths_counts==120])\n",
    "\n",
    "print(f\"Number of occurences per caracter lengths: \\n20: {length_20}\\n120: {length_120}\")"
   ]
  },
  {
   "cell_type": "markdown",
   "metadata": {},
   "source": [
    "### iv - Max & min"
   ]
  },
  {
   "cell_type": "code",
   "execution_count": 37,
   "metadata": {},
   "outputs": [
    {
     "name": "stdout",
     "output_type": "stream",
     "text": [
      "Shortest sentence length: 2\n",
      "Longest sentence length: 9572\n"
     ]
    }
   ],
   "source": [
    "print(f\"Shortest sentence length: {sentence_lengths.min()}\\nLongest sentence length: {sentence_lengths.max()}\")"
   ]
  },
  {
   "cell_type": "markdown",
   "metadata": {},
   "source": [
    "### v - Short sentence frequency"
   ]
  },
  {
   "cell_type": "code",
   "execution_count": 44,
   "metadata": {},
   "outputs": [],
   "source": [
    "less_21 = all_slices[sentence_lengths < 21]\n",
    "less_21_counts = less_21.value_counts()\n",
    "less_21_counts.head(100).to_csv(PATH+\"\\\\frequent_short_sentences.csv\")"
   ]
  },
  {
   "cell_type": "markdown",
   "metadata": {},
   "source": [
    "### vi - Word frequency"
   ]
  },
  {
   "cell_type": "code",
   "execution_count": 8,
   "metadata": {},
   "outputs": [
    {
     "data": {
      "text/plain": [
       "the    3751181\n",
       "of     1584635\n",
       "a      1501086\n",
       "and    1471456\n",
       "in     1347002\n",
       "s       650276\n",
       "dtype: int64"
      ]
     },
     "execution_count": 8,
     "metadata": {},
     "output_type": "execute_result"
    }
   ],
   "source": [
    "# Concatenate everything into a single string\n",
    "all_slices_str = \"\"\n",
    "\n",
    "pattern = r'[^\\w\\s]|[\\d]' # Regex to select punctuation and digits\n",
    "for slice_path in glob.glob(PATH+\"\\*.txt\"):\n",
    "    f = open(slice_path, \"r\", encoding=\"utf-8\")\n",
    "    slice_str = f.read()\n",
    "\n",
    "    # Replacing punctuation, digits and skip lines\n",
    "    slice_str = re.sub(\"\\n\", ' ', slice_str) # Skipline becomes space\n",
    "    slice_str = re.sub(pattern, '', slice_str).lower()  # Remove punctuation and digits, then put it in lowercase\n",
    "    \n",
    "    # Concatenating\n",
    "    all_slices_str = all_slices_str + slice_str\n",
    "\n",
    "# Split over the spaces, removing them and putting them into pandas\n",
    "words = all_slices_str.split(\" \")\n",
    "word_df = pd.Series(words)\n",
    "\n",
    "word_counts = word_df.value_counts()\n",
    "word_counts = word_counts.drop([\"\", \"continue\", \"to\"]) # Drop continue, to, and '' which caused me problems\n",
    "word_counts.head(6)"
   ]
  },
  {
   "cell_type": "markdown",
   "metadata": {},
   "source": [
    "### vii - First 10  words"
   ]
  },
  {
   "cell_type": "code",
   "execution_count": 6,
   "metadata": {},
   "outputs": [
    {
     "data": {
      "text/plain": [
       " A version of this article appeared in print on March                   113\n",
       " The yield on the benchmark 10-year Treasury note , which               109\n",
       " A version of this article appeared in print on January                  77\n",
       " Enterprise computing , economics of technology , Microsoft , I.B.M.     69\n",
       " This entry was posted by Gwen Robinson on Wednesday ,                   64\n",
       "                                                                       ... \n",
       " Even though his land is only six miles from official                     1\n",
       " The policy was designed to control the country 's exploding              1\n",
       " Rogge urged China to respect its \" moral engagement \"                    1\n",
       " They also include zebra and quagga mussels , which have                  1\n",
       " Where Ubisoft and developer Gameloft really do pull through is           1\n",
       "Length: 2738435, dtype: int64"
      ]
     },
     "execution_count": 6,
     "metadata": {},
     "output_type": "execute_result"
    }
   ],
   "source": [
    "sentence_starts = []\n",
    "\n",
    "pattern = r'[^\\w\\s]|[\\d]' # Regex to select punctuation and digits\n",
    "for slice_path in glob.glob(PATH+\"\\*.txt\"):\n",
    "    f = open(slice_path, \"r\", encoding=\"utf-8\")\n",
    "    slice_str = f.readlines()\n",
    "\n",
    "    for sentence in slice_str:\n",
    "        sentence = sentence.split(\" \")\n",
    "        first_10 = sentence[:10]\n",
    "        \n",
    "        first_10_str = \"\"\n",
    "        for word in first_10:\n",
    "            first_10_str = first_10_str + \" \" + word\n",
    "        sentence_starts.append(first_10_str)\n",
    "\n",
    "sentence_starts = pd.Series(sentence_starts)\n",
    "sentence_starts.value_counts()"
   ]
  },
  {
   "cell_type": "markdown",
   "metadata": {},
   "source": [
    "### viii - Maj"
   ]
  },
  {
   "cell_type": "code",
   "execution_count": 28,
   "metadata": {},
   "outputs": [
    {
     "data": {
      "text/plain": [
       "YORK    5512\n",
       "NATO    3133\n",
       "NASA    2238\n",
       "NYSE    1720\n",
       "AIDS    1437\n",
       "dtype: int64"
      ]
     },
     "execution_count": 28,
     "metadata": {},
     "output_type": "execute_result"
    }
   ],
   "source": [
    "# Concatenate everything into a single string\n",
    "all_slices_str = \"\"\n",
    "\n",
    "pattern = r'[^\\w\\s]|[\\d]' # Regex to select punctuation and digits\n",
    "for slice_path in glob.glob(PATH+\"\\*.txt\"):\n",
    "    f = open(slice_path, \"r\", encoding=\"utf-8\")\n",
    "    slice_str = f.read()\n",
    "\n",
    "    # Replacing punctuation, digits and skip lines\n",
    "    slice_str = re.sub(\"\\n\", ' ', slice_str) # Skipline becomes space\n",
    "    slice_str = re.sub(pattern, '', slice_str)  # Remove punctuation and digits\n",
    "        \n",
    "    # Concatenating\n",
    "    all_slices_str = all_slices_str + slice_str\n",
    "\n",
    "# Split over the spaces, removing them and putting them into pandas\n",
    "words = all_slices_str.split(\" \")\n",
    "word_df = pd.Series(words)\n",
    "\n",
    "word_df_upper = word_df[word_df.str.isupper()]\n",
    "word_df_upper_4 = word_df_upper[word_df_upper.str.len()==4]\n",
    "word_df_upper_4_counts = word_df_upper_4.value_counts()\n",
    "word_df_upper_4_counts.to_csv(PATH + r\"\\most_common_4maj_words.csv\")\n",
    "word_df_upper_4_counts.head(5)"
   ]
  },
  {
   "cell_type": "code",
   "execution_count": null,
   "metadata": {},
   "outputs": [],
   "source": []
  }
 ],
 "metadata": {
  "kernelspec": {
   "display_name": "Python 3 (ipykernel)",
   "language": "python",
   "name": "python3"
  },
  "language_info": {
   "codemirror_mode": {
    "name": "ipython",
    "version": 3
   },
   "file_extension": ".py",
   "mimetype": "text/x-python",
   "name": "python",
   "nbconvert_exporter": "python",
   "pygments_lexer": "ipython3",
   "version": "3.9.13"
  }
 },
 "nbformat": 4,
 "nbformat_minor": 2
}
